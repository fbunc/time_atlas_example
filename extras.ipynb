{
 "cells": [
  {
   "attachments": {},
   "cell_type": "markdown",
   "metadata": {},
   "source": [
    "# The normal distribuition"
   ]
  },
  {
   "cell_type": "code",
   "execution_count": 1,
   "metadata": {},
   "outputs": [
    {
     "data": {
      "application/vnd.jupyter.widget-view+json": {
       "model_id": "2266226019934dcaaf54c7f322b5afcf",
       "version_major": 2,
       "version_minor": 0
      },
      "text/plain": [
       "VBox(children=(HBox(children=(Output(), FloatSlider(value=-1.0, layout=Layout(flex='1 1 auto', width='auto'), …"
      ]
     },
     "execution_count": 1,
     "metadata": {},
     "output_type": "execute_result"
    }
   ],
   "source": [
    "%matplotlib inline\n",
    "import numpy as np\n",
    "import matplotlib.pyplot as plt\n",
    "from mpl_toolkits.mplot3d import Axes3D\n",
    "from ipywidgets import interactive_output, FloatSlider, HBox, VBox, Layout\n",
    "\n",
    "def f(x, y, s):\n",
    "    return np.exp(s*(x**2 + y**2))\n",
    "\n",
    "def plot_function(s):\n",
    "    x_vals = np.linspace(-2, 2, 100)\n",
    "    y_vals = np.linspace(-2, 2, 100)\n",
    "\n",
    "    x, y = np.meshgrid(x_vals, y_vals)\n",
    "\n",
    "    z = f(x, y, s)\n",
    "\n",
    "    fig = plt.figure(figsize=(6, 6), facecolor='black')\n",
    "    ax = fig.add_subplot(111, projection='3d')\n",
    "    plot = ax.plot_surface(x, y, z, cmap='hsv', edgecolor='none')\n",
    "\n",
    "    ax.set_facecolor('black')\n",
    "\n",
    "    ax.set_xlabel('X', color='white')\n",
    "    ax.set_ylabel('Y', color='white')\n",
    "    ax.set_zlabel('Z', color='white')\n",
    "    ax.tick_params(colors='white')\n",
    "    ax.set_title('f(x, y) = e^(s*(x^2+y^2))', color='white')\n",
    "\n",
    "    plt.show()\n",
    "\n",
    "s_slider = FloatSlider(min=-6, max=2, step=0.1, value=-1, layout=Layout(width='auto', flex='1 1 auto'))\n",
    "out = interactive_output(plot_function, {'s': s_slider})\n",
    "\n",
    "VBox([HBox([out, s_slider], layout=Layout(width='100%', display='flex', flex_flow='row wrap', justify_content='space-between'))])\n"
   ]
  }
 ],
 "metadata": {
  "kernelspec": {
   "display_name": "Python 3",
   "language": "python",
   "name": "python3"
  },
  "language_info": {
   "codemirror_mode": {
    "name": "ipython",
    "version": 3
   },
   "file_extension": ".py",
   "mimetype": "text/x-python",
   "name": "python",
   "nbconvert_exporter": "python",
   "pygments_lexer": "ipython3",
   "version": "3.10.6"
  },
  "orig_nbformat": 4
 },
 "nbformat": 4,
 "nbformat_minor": 2
}
