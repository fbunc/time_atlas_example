{
 "cells": [
  {
   "attachments": {},
   "cell_type": "markdown",
   "metadata": {},
   "source": [
    "# sliders by llm"
   ]
  },
  {
   "cell_type": "code",
   "execution_count": null,
   "metadata": {},
   "outputs": [],
   "source": [
    "import numpy as np\n",
    "import matplotlib.pyplot as plt\n",
    "from ipywidgets import interact, FloatSlider\n",
    "\n",
    "# Define the parameters of the plot\n",
    "symbol_size = 100\n",
    "symbol_shape = 'o'\n",
    "\n",
    "# Create the sliders\n",
    "r_y_slider = FloatSlider(value=1, min=0.001, max=60, step=0.01, description='r_y')\n",
    "r_m_slider = FloatSlider(value=1, min=0.001, max=60, step=0.01, description='r_m')\n",
    "r_d_slider = FloatSlider(value=1, min=0.001, max=60, step=0.01, description='r_d')\n",
    "r_h_slider = FloatSlider(value=1, min=0.001, max=60, step=0.01, description='r_h')\n",
    "T_y_slider = FloatSlider(value=1, min=0.001, max=60, step=0.01, description='T_y')\n",
    "T_m_slider = FloatSlider(value=1, min=0.001, max=60, step=0.01, description='T_m')\n",
    "T_d_slider = FloatSlider(value=1, min=0.001, max=60, step=0.01, description='T_d')\n",
    "T_h_slider = FloatSlider(value=1, min=0.001, max=60, step=0.01, description='T_h')\n",
    "\n",
    "# Define the function to be called anytime a slider's value changes\n",
    "def update(r_y, r_m, r_d, r_h, T_y, T_m, T_d, T_h):\n",
    "    y_hat = r_y * np.exp((2 * np.pi * 1j / T_y) * y)\n",
    "    m_hat = r_m * np.exp((2 * np.pi * 1j / T_m) * m)\n",
    "    d_hat = r_d * np.exp((2 * np.pi * 1j / T_d) * d)\n",
    "    h_hat = r_h * np.exp((2 * np.pi * 1j / T_h) * h)\n",
    "\n",
    "    atlas = y_hat + m_hat + d_hat + h_hat\n",
    "\n",
    "    plt.scatter(atlas.real, atlas.imag, s=symbol_size, marker=symbol_shape, c=np.angle(atlas), cmap='hsv')\n",
    "    plt.draw()\n",
    "\n",
    "# # Create the plot\n",
    "# y = np.linspace(0, 1, 100)\n",
    "# m = np.linspace(0, 12, 100)\n",
    "# d = np.linspace(0, 31, 100)\n",
    "# h = np.linspace(0, 24, 100)\n",
    "\n",
    "plt.scatter([], [], s=symbol_size, marker=symbol_shape)  # Empty scatter plot\n",
    "\n",
    "# Define the interactive function\n",
    "@interact(r_y=r_y_slider, r_m=r_m_slider, r_d=r_d_slider, r_h=r_h_slider, T_y=T_y_slider, T_m=T_m_slider, T_d=T_d_slider, T_h=T_h_slider)\n",
    "def plot(r_y, r_m, r_d, r_h, T_y, T_m, T_d, T_h):\n",
    "    update(r_y, r_m, r_d, r_h, T_y, T_m, T_d, T_h)\n",
    "\n",
    "plt.show()\n"
   ]
  },
  {
   "attachments": {},
   "cell_type": "markdown",
   "metadata": {},
   "source": [
    "# The normal distribuition"
   ]
  },
  {
   "cell_type": "code",
   "execution_count": 1,
   "metadata": {},
   "outputs": [
    {
     "data": {
      "application/vnd.jupyter.widget-view+json": {
       "model_id": "2266226019934dcaaf54c7f322b5afcf",
       "version_major": 2,
       "version_minor": 0
      },
      "text/plain": [
       "VBox(children=(HBox(children=(Output(), FloatSlider(value=-1.0, layout=Layout(flex='1 1 auto', width='auto'), …"
      ]
     },
     "execution_count": 1,
     "metadata": {},
     "output_type": "execute_result"
    }
   ],
   "source": [
    "%matplotlib inline\n",
    "import numpy as np\n",
    "import matplotlib.pyplot as plt\n",
    "from mpl_toolkits.mplot3d import Axes3D\n",
    "from ipywidgets import interactive_output, FloatSlider, HBox, VBox, Layout\n",
    "\n",
    "def f(x, y, s):\n",
    "    return np.exp(s*(x**2 + y**2))\n",
    "\n",
    "def plot_function(s):\n",
    "    x_vals = np.linspace(-2, 2, 100)\n",
    "    y_vals = np.linspace(-2, 2, 100)\n",
    "\n",
    "    x, y = np.meshgrid(x_vals, y_vals)\n",
    "\n",
    "    z = f(x, y, s)\n",
    "\n",
    "    fig = plt.figure(figsize=(6, 6), facecolor='black')\n",
    "    ax = fig.add_subplot(111, projection='3d')\n",
    "    plot = ax.plot_surface(x, y, z, cmap='hsv', edgecolor='none')\n",
    "\n",
    "    ax.set_facecolor('black')\n",
    "\n",
    "    ax.set_xlabel('X', color='white')\n",
    "    ax.set_ylabel('Y', color='white')\n",
    "    ax.set_zlabel('Z', color='white')\n",
    "    ax.tick_params(colors='white')\n",
    "    ax.set_title('f(x, y) = e^(s*(x^2+y^2))', color='white')\n",
    "\n",
    "    plt.show()\n",
    "\n",
    "s_slider = FloatSlider(min=-6, max=2, step=0.1, value=-1, layout=Layout(width='auto', flex='1 1 auto'))\n",
    "out = interactive_output(plot_function, {'s': s_slider})\n",
    "\n",
    "VBox([HBox([out, s_slider], layout=Layout(width='100%', display='flex', flex_flow='row wrap', justify_content='space-between'))])\n"
   ]
  },
  {
   "attachments": {},
   "cell_type": "markdown",
   "metadata": {},
   "source": [
    "## sin, cos and exp functions from scratch"
   ]
  },
  {
   "cell_type": "code",
   "execution_count": 5,
   "metadata": {},
   "outputs": [
    {
     "name": "stdout",
     "output_type": "stream",
     "text": [
      "cos(1.5707963267948966j) = (2.509178478658053+0j)\n",
      "sin(1.5707963267948966j) = 2.301298902307295j\n",
      "exp(1.5707963267948966j) = (2.473727636469463e-05+1.0000035425842861j)\n"
     ]
    }
   ],
   "source": [
    "import math\n",
    "\n",
    "def cos_series(theta, terms):\n",
    "    result = 0\n",
    "    for n in range(terms):\n",
    "        result += ((-1) ** n) * (theta ** (2*n)) / math.factorial(2*n)\n",
    "    return result\n",
    "\n",
    "def sin_series(theta, terms):\n",
    "    result = 0\n",
    "    for n in range(terms):\n",
    "        result += ((-1) ** n) * (theta ** (2*n + 1)) / math.factorial(2*n + 1)\n",
    "    return result\n",
    "\n",
    "def exp_series(theta, terms):\n",
    "    result = 0\n",
    "    for n in range(terms):\n",
    "        result += theta ** n / math.factorial(n)\n",
    "    return result\n",
    "\n",
    "# Example usage\n",
    "theta = 1j*np.pi/2\n",
    "num_terms = 10\n",
    "\n",
    "cos_value = cos_series(theta, num_terms)\n",
    "sin_value = sin_series(theta, num_terms)\n",
    "exp_value = exp_series(theta, num_terms)\n",
    "\n",
    "print(f\"cos({theta}) = {cos_value}\")\n",
    "print(f\"sin({theta}) = {sin_value}\")\n",
    "print(f\"exp({theta}) = {exp_value}\")\n"
   ]
  },
  {
   "attachments": {},
   "cell_type": "markdown",
   "metadata": {},
   "source": [
    "# Dice"
   ]
  },
  {
   "cell_type": "code",
   "execution_count": 27,
   "metadata": {},
   "outputs": [
    {
     "data": {
      "text/latex": [
       "$\\displaystyle x^{8} + 8 x^{6} + 28 x^{4} + 56 x^{2} + 70 + \\frac{56}{x^{2}} + \\frac{28}{x^{4}} + \\frac{8}{x^{6}} + \\frac{1}{x^{8}}$"
      ],
      "text/plain": [
       "x**8 + 8*x**6 + 28*x**4 + 56*x**2 + 70 + 56/x**2 + 28/x**4 + 8/x**6 + x**(-8)"
      ]
     },
     "execution_count": 27,
     "metadata": {},
     "output_type": "execute_result"
    }
   ],
   "source": [
    "from sympy import symbols, expand\n",
    "\n",
    "def unpack_expression():\n",
    "    x = symbols('x')\n",
    "    #expression = (1 + x**(-1))*(1 + x**(-2))*(1 + x**(-3))*(1 + x**(-4))*(1 + x**(-5))*(1 + x**(-6))\n",
    "    #expression = (1 + x**(-1))*(1 + x**(1))*(1 + x**(-2))*(1 + x**(2))*(1 + x**(-3))*(1 + x**(3))*(1 + x**(4))\n",
    "    expression =(x+x**(-1))**(8)\n",
    "    unpacked_expression = expand(expression)\n",
    "    return unpacked_expression\n",
    "\n",
    "unpacked_expr = unpack_expression()\n",
    "unpacked_expr\n"
   ]
  },
  {
   "cell_type": "code",
   "execution_count": null,
   "metadata": {},
   "outputs": [],
   "source": []
  }
 ],
 "metadata": {
  "kernelspec": {
   "display_name": "Python 3",
   "language": "python",
   "name": "python3"
  },
  "language_info": {
   "codemirror_mode": {
    "name": "ipython",
    "version": 3
   },
   "file_extension": ".py",
   "mimetype": "text/x-python",
   "name": "python",
   "nbconvert_exporter": "python",
   "pygments_lexer": "ipython3",
   "version": "3.10.6"
  },
  "orig_nbformat": 4
 },
 "nbformat": 4,
 "nbformat_minor": 2
}
